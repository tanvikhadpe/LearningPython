{
  "nbformat": 4,
  "nbformat_minor": 0,
  "metadata": {
    "colab": {
      "provenance": [],
      "authorship_tag": "ABX9TyOIjet5xrA8Wj1VyRZ/Gxiz",
      "include_colab_link": true
    },
    "kernelspec": {
      "name": "python3",
      "display_name": "Python 3"
    },
    "language_info": {
      "name": "python"
    }
  },
  "cells": [
    {
      "cell_type": "markdown",
      "metadata": {
        "id": "view-in-github",
        "colab_type": "text"
      },
      "source": [
        "<a href=\"https://colab.research.google.com/github/tanvikhadpe/LearningPython/blob/main/Functional_Programming.ipynb\" target=\"_parent\"><img src=\"https://colab.research.google.com/assets/colab-badge.svg\" alt=\"Open In Colab\"/></a>"
      ]
    },
    {
      "cell_type": "markdown",
      "source": [
        "# **FUNCTIONAL PROGRAMMING:**\n",
        "- A **pure function** is a function whose output value follows solely from its input values, without any obervable side effects.\n",
        "- In functional programming, a program **consists entirely of evaluation of pure functions**.\n",
        "- Computation **proceeds by nested or composed function calls**, without changes to state or mutable data.\n",
        "\n",
        "### **Advantages of Functional Programming:**\n",
        "1. **High-Level:** You're decribing the result you want rather than explicitly specifying the steps required to get there. Single statements tend to be concise but pack a lot of punch.\n",
        "2. **Transparent:** The behavior of pure function depends only on its input and output, without intermediary values. That eleminates the possibility of side-effects, which facilitates debugging.\n",
        "3. **Parallelizable:** Routines that don't cause side effects can more easily run in parallel with one another.\n",
        "\n",
        "### **How well does Python support Functional Programming?**\n",
        "To support FP, it's useful if  function in a programming language has 2 abilities:\n",
        "\n",
        "***1. To take another function as an argument.***\n",
        "\n",
        "- Everything in python is an object and all objects in python have more or less equal stature and functions are no exception.\n",
        "- Functions are **first-class citizens**, i.e., functions have same characteristics as values like strings and numbers. Anything you would except to be able to do with a string or number you can do with a function as well.\n",
        "\n",
        "\n",
        "\n",
        ">```\n",
        "def func():\n",
        "  print(\"I am function func()!\")\n",
        "print(\"cat\", func, 42) # Output: cat <function func at 0x7f81b4d29bf8> 42\n",
        "```\n",
        "\n",
        ">```\n",
        "objects = [\"cat\", func, 42]\n",
        "objects[1] # Output: <function func at 0x7f81b4d29bf8>\n",
        "objects[1]() # Output: I am function func()!\n",
        "```\n",
        ">```\n",
        "d = {\"cat\": 1, func: 2, 42: 3}\n",
        "d[func] # Output: 2\n",
        "```\n",
        "In this example, func() appears in all the same contexts as the values \"cat\" and 42, and the interpreter handles it just fine.\n",
        "\n",
        "\n",
        "***2. FUNCTION COMPOSITION: To return another function to its caller.***\n",
        "\n",
        "- You can pass a function to another to another function as an argument.\n",
        "-\n",
        "\n",
        ">```\n",
        "def inner():\n",
        "  print('I am function inner!')\n",
        "```\n",
        ">```\n",
        "def outer(function):\n",
        "  function()\n",
        "```\n",
        ">```\n",
        "outer(inner) # Output: I am function inner!\n",
        "```\n"
      ],
      "metadata": {
        "id": "Mm1Zoi7ngMyk"
      }
    },
    {
      "cell_type": "markdown",
      "source": [
        "# **IMPORTANT BUILT-IN FUNCTIONS:**\n",
        "\n",
        "### **1. Lambda or Anonymous Function:**\n",
        "- A **function which have no name** is called lambda.\n",
        "- Normally, we use **def** keyword to **define normal function** in python.\n",
        "- And **lambda** keyword for **creating lambda/anonymous function**.\n",
        "- SYNTAX: **lambda argument: expression**\n",
        "\n",
        "```\n",
        "f = lambda a: a*a\n",
        "\n",
        "f: function object that accepts and stores the result of the expression.\n",
        "a: argument\n",
        "a*a: one-line expression\n",
        "```\n"
      ],
      "metadata": {
        "id": "TV-umTJXN04Q"
      }
    },
    {
      "cell_type": "code",
      "source": [
        "square = lambda x: x**2\n",
        "print(square(5))\n",
        "\n",
        "sum = lambda x, y: x+y\n",
        "print(sum(3, 9))"
      ],
      "metadata": {
        "colab": {
          "base_uri": "https://localhost:8080/"
        },
        "id": "2n-gSWt3sjHv",
        "outputId": "2cb7ba18-5932-4502-fec3-68fc9c2c7656"
      },
      "execution_count": null,
      "outputs": [
        {
          "output_type": "stream",
          "name": "stdout",
          "text": [
            "25\n",
            "12\n"
          ]
        }
      ]
    },
    {
      "cell_type": "markdown",
      "source": [
        "\n",
        "### **2. map() Function:**\n",
        "- map() is a function which takes 2 arguments:\n",
        "- First argument is the name of a function and second a sequence (e.g., a list).\n",
        "- Before Python 3, map() used to return a list, where each element of the result list was the result of the fucntion applied on the corresponding element if the list or tuple.\n",
        "- With Python 3, map() returns an iterator.\n"
      ],
      "metadata": {
        "id": "rImALweysTbU"
      }
    },
    {
      "cell_type": "code",
      "source": [
        "def farenheit(t):\n",
        "  return ((float(9/5)*t + 32))\n",
        "\n",
        "def celcius(t):\n",
        "  return (float(5)/9)*(t-32)\n",
        "\n",
        "temperatures = (36.5, 37, 37.5, 38, 39)\n",
        "F = map(farenheit, temperatures)\n",
        "C = map(celcius, F)\n",
        "\n",
        "temp_in_farh = list(map(farenheit, temperatures))\n",
        "temp_in_celc = list(map(celcius, temp_in_farh))\n",
        "\n",
        "print(\"F:\", temp_in_farh)\n",
        "print(\"C\", temp_in_celc)"
      ],
      "metadata": {
        "colab": {
          "base_uri": "https://localhost:8080/"
        },
        "id": "8N98cTZytCTT",
        "outputId": "aec9ef06-3fa9-41a1-e82f-32f86175f2ff"
      },
      "execution_count": null,
      "outputs": [
        {
          "output_type": "stream",
          "name": "stdout",
          "text": [
            "F: [97.7, 98.60000000000001, 99.5, 100.4, 102.2]\n",
            "C [36.5, 37.00000000000001, 37.5, 38.00000000000001, 39.0]\n"
          ]
        }
      ]
    },
    {
      "cell_type": "code",
      "source": [
        "C = [39.2, 36.5, 37.3, 38, 37.8]\n",
        "F = list(map(lambda x: (float(9)/5)*x + 32, C))\n",
        "print(F)"
      ],
      "metadata": {
        "colab": {
          "base_uri": "https://localhost:8080/"
        },
        "id": "2IHud6q1EH_B",
        "outputId": "a2ace2de-1c45-47f8-f5cf-e7549c5a77e6"
      },
      "execution_count": null,
      "outputs": [
        {
          "output_type": "stream",
          "name": "stdout",
          "text": [
            "[102.56, 97.7, 99.14, 100.4, 100.03999999999999]\n"
          ]
        }
      ]
    },
    {
      "cell_type": "code",
      "source": [
        "C = list(map(lambda x: (float(5)/9)*(x-32), F))\n",
        "print(C)"
      ],
      "metadata": {
        "colab": {
          "base_uri": "https://localhost:8080/"
        },
        "id": "yN7MNREvFr74",
        "outputId": "ea30f956-1e34-4e14-e142-a8acd40db634"
      },
      "execution_count": null,
      "outputs": [
        {
          "output_type": "stream",
          "name": "stdout",
          "text": [
            "[39.2, 36.5, 37.300000000000004, 38.00000000000001, 37.8]\n"
          ]
        }
      ]
    },
    {
      "cell_type": "code",
      "source": [
        "a = [1, 2, 3, 4]\n",
        "b = [17, 12, 11, 10]\n",
        "c = [-1, -4, 5, 9]\n",
        "\n",
        "print(list(map(lambda x,y,z: x+y+z, a,b,c)))\n",
        "print(list(map(lambda x,y: x+y, a,b)))\n",
        "print(list(map(lambda x,y,z: 2.5*x + 2*y -z, a,b,c)))"
      ],
      "metadata": {
        "colab": {
          "base_uri": "https://localhost:8080/"
        },
        "id": "VggHtPbHF_c_",
        "outputId": "3afbbcce-46c0-491d-e0ec-6e4a50bccc54"
      },
      "execution_count": null,
      "outputs": [
        {
          "output_type": "stream",
          "name": "stdout",
          "text": [
            "[17, 10, 19, 23]\n",
            "[18, 14, 14, 14]\n",
            "[37.5, 33.0, 24.5, 21.0]\n"
          ]
        }
      ]
    },
    {
      "cell_type": "markdown",
      "source": [
        "### **3. filter() Function:**\n",
        "- Offers an elegant way to filter out all the elements of a sequence, for which the function returns True.\n",
        "- An item will be produced by the iterator result of filter(function, sequence) if item is included in the sequence and if function returns True.\n",
        "- In other words, the function filter(f,l) needs a function f as its first argument.\n",
        "- f has to return a boolean value, i.e., either True or False.\n",
        "- This function will be applied to every element of the list l.\n",
        "- Only if f returns True will the element be produced by the iterator, which is the return value of filter(function, sequence).\n"
      ],
      "metadata": {
        "id": "LnuGJ-3csXFh"
      }
    },
    {
      "cell_type": "code",
      "source": [
        "#  Filter out first the odd and then the even elements of the sequence of the first 11 Fibonacci numbers:\n",
        "fibonacci = [0,1,1,2,3,5,8,13,21,34,55]\n",
        "odd_numbers = list(filter(lambda x: x%2, fibonacci)) # returns 1 if odd and 0 if even\n",
        "print(\"Odd Fibonacci Numbers:\", odd_numbers)\n",
        "\n",
        "even_numbers = list(filter(lambda x: x%2 == 0, fibonacci))\n",
        "print(\"Even Fibonacci Numbers:\", even_numbers)"
      ],
      "metadata": {
        "colab": {
          "base_uri": "https://localhost:8080/"
        },
        "id": "J-Yl_iwXHRq4",
        "outputId": "c9a537cd-7902-480a-f067-211bcf010257"
      },
      "execution_count": null,
      "outputs": [
        {
          "output_type": "stream",
          "name": "stdout",
          "text": [
            "Odd Fibonacci Numbers: [1, 1, 3, 5, 13, 21, 55]\n",
            "Even Fibonacci Numbers: [0, 2, 8, 34]\n"
          ]
        }
      ]
    },
    {
      "cell_type": "markdown",
      "source": [
        "\n",
        "### **4. reduce() Function:**\n",
        "- Continually applies the function func() to the sequence seq.\n",
        "- It returns a single value.\n",
        "- It is used to apply a particular fucntion passed in its argument to all of the list elements.\n",
        "- This function is defined in the 'functools' module and must be imported before use.\n",
        "- The function reduces the iterable to a single value.\n",
        "\n",
        "\n",
        "```\n",
        "import functools\n",
        "functools.reduce(lambda function)\n",
        "```\n",
        "\n",
        "```\n",
        "from functools import reduce\n",
        "reduce(lambda function)\n",
        "```\n",
        "\n"
      ],
      "metadata": {
        "id": "lkFZQ9SysX6c"
      }
    },
    {
      "cell_type": "markdown",
      "source": [
        "#### Determining the **maximum of a list** of numerical values by **using reduce**"
      ],
      "metadata": {
        "id": "8ePuTQt5OYi9"
      }
    },
    {
      "cell_type": "code",
      "source": [
        "from functools import reduce\n",
        "\n",
        "f = lambda a,b: a if a > b else b\n",
        "reduce(f, [47,11,42,102,13])"
      ],
      "metadata": {
        "colab": {
          "base_uri": "https://localhost:8080/"
        },
        "id": "iRcgk93tNDi1",
        "outputId": "534bb3ca-0cd0-4009-fec5-cd99ad8d72f4"
      },
      "execution_count": null,
      "outputs": [
        {
          "output_type": "execute_result",
          "data": {
            "text/plain": [
              "102"
            ]
          },
          "metadata": {},
          "execution_count": 9
        }
      ]
    },
    {
      "cell_type": "markdown",
      "source": [
        "#### Calculating the **sum** of the numbers from **1 to 100** by **using reduce**:"
      ],
      "metadata": {
        "id": "c-SCLkEYOeCd"
      }
    },
    {
      "cell_type": "code",
      "source": [
        "reduce(lambda x,y: x+y, range(1,101))"
      ],
      "metadata": {
        "colab": {
          "base_uri": "https://localhost:8080/"
        },
        "id": "iAGrS1x9OV2u",
        "outputId": "02a32770-f30b-4143-b587-bd5ceef2ed8c"
      },
      "execution_count": null,
      "outputs": [
        {
          "output_type": "execute_result",
          "data": {
            "text/plain": [
              "5050"
            ]
          },
          "metadata": {},
          "execution_count": 10
        }
      ]
    },
    {
      "cell_type": "markdown",
      "source": [
        "#### Calculate the **product (the factorial)** from **1 to a number**, but **do not choose 100**."
      ],
      "metadata": {
        "id": "6E7Ks4O8OuBE"
      }
    },
    {
      "cell_type": "code",
      "source": [
        "reduce(lambda x,y: x*y, range(1, 49))"
      ],
      "metadata": {
        "colab": {
          "base_uri": "https://localhost:8080/"
        },
        "id": "-OWYkSMiOtIY",
        "outputId": "8a71a606-7f95-47d4-cbe7-f7b09b50c03d"
      },
      "execution_count": null,
      "outputs": [
        {
          "output_type": "execute_result",
          "data": {
            "text/plain": [
              "12413915592536072670862289047373375038521486354677760000000000"
            ]
          },
          "metadata": {},
          "execution_count": 11
        }
      ]
    },
    {
      "cell_type": "markdown",
      "source": [
        "#### If you are into lottery, here are the **chances to win a 6 out of 49 drawing**:"
      ],
      "metadata": {
        "id": "KFIRmsN_PIdG"
      }
    },
    {
      "cell_type": "code",
      "source": [
        "reduce(lambda x, y: x*y, range(44,50))/reduce(lambda x, y: x*y, range(1,7))"
      ],
      "metadata": {
        "colab": {
          "base_uri": "https://localhost:8080/"
        },
        "id": "DG8kEYVEPX8l",
        "outputId": "fb0c495c-c9cd-436f-b20d-e813691254bf"
      },
      "execution_count": null,
      "outputs": [
        {
          "output_type": "execute_result",
          "data": {
            "text/plain": [
              "13983816.0"
            ]
          },
          "metadata": {},
          "execution_count": 12
        }
      ]
    },
    {
      "cell_type": "markdown",
      "source": [
        "#### **Imagine an accounting routine used in a book shop. It works on a list with sublists, which look like this:**\n",
        "\n",
        "![image.png](data:image/png;base64,iVBORw0KGgoAAAANSUhEUgAAAvcAAACMCAYAAAD4BYaQAAAAAXNSR0IArs4c6QAAAARnQU1BAACxjwv8YQUAAAAJcEhZcwAADsMAAA7DAcdvqGQAADoVSURBVHhe7Z09bxPL98cP/1eRSFBYoqWhwpFuE4kXQCJ+Ek51RZkO0cWkCKaL6CjRrRKkixxewJXSIMVUaWiRXICUvAv/58yc2Z2nfbB37dib70cagtfr3dl5OHPmnDOzD2YKAgAAAAAAAGw8/yd/AQAAAAAAABsOlHsAAAAAAAA6ApR7AAAAAAAAOgKUewAAAAAAADoClHsAAAAAAAA6ApR7AAAAAAAAOgKUewAAAAAAADoClHsAAAAAAAA6wnoo9z8+0IMHD+jDD/l8T7n9sq/KYZ/O/8gBsDasRd1IP3nw4ANN5NBiTOiDvk6eOtf3/pzTvnqu/S+3cmAzmLxvo34BAO2Qy8r7rp+sHa2Nh92kWrnPCtCmbhekUeLUc/7vnHy14JbO/6eOv0czuiuyugnSpilwKeU6Tov2M7l2aTvt09FsRvxy6tlkJMdAjFNPbfR7GDFA14n0hTU0VrXeD0U3iHQG0J0xe/MoVe51xfSv6ey3KAIqXZ0Maec+WJe/HtBnDMJryJ7XHlk5vRhsb9iky1Gu5RmY0cQ5NjtSZwU8Oyr+DrTPj0sa0ojOzveIji87bdQAoClGX1A9xpFjVycXdPBokye0uaw+eiaHwJwUjNlNJ0MYD0spVu7/nNPh4EJ11DENHsoxRf/dDZ29VB32TZdnqSManRANP2ImvvY8e63ao/r7c4q6Aq0y+W9IdLJLg95T9WlIl5jsA5BG9IW98xtPCTb6guo9fYROAEEp5TdsMIEBdakUKveTfw5Iqfa0G81Wt2j3BVfMmC6t9V67uYw1P3TDJGfsoetOzfaTRC6+hICY99412X0+8p8xoiD8IYz11fnjfPuxe3le00LPxN5KKpjhhs+bOk9fRx8X12F2fveFbVQ+Rc8ctbOaninnd8u0TNWuZ/39jlJDFcc7lb+pS537z0ciLKmgH/l9hVNB3cj52XmPWH41YUKXx2qa/7yvBqNdJQmVgvJfRV+3SLswbcJ5VpFzw76TT5XSLuqgvyY9U2GfTp3nhhMG5d64HgEwGH1hj/b/2pIjFtEXnMlxel1JUWhLW7Jizn4YypOE3MnvtU0HX9UBpaxue7+xz2j7aWr8Kfuuu2xpgwnR9dSWeX05Nfd4FI3vZfWQp8VDh0z+9e+De6f1hLiNR+c5bTy8ZlE+C5T7W5r+VH9e9qhnDniYirmgqdfYjftt+9s+3Yj75Yqt332/U+iOrcbLK+ui4ZSI+9UVGLn4ikKC6t17LrRFWF33nza6HOf7lHq/JV8f9+lQ5/VKKQ1DOg0qZ/zmAZ0+vpHnVuew0AgaMJfj9oAcd9cNnRELl0TD1UJnm8YvnGtynjowuN9+OdSCdfRmoIYRi+mo24OnTjtjC1Lcfkx7DEPPariSuYPxIPHyTLe5Zbpst16NnWeQgwH9dzb/XLeKkyv5LOlft3zqM1c7qwULskvadfPG/Z8nIwkFlgdgv19z3fj31rLi0Zj2Xdfv7zOlajRAh+TsUU97Lfu0q/rtYt6heH2DH341o/GroGZeXtOp6q/TN3IOP4sqn1j5UErFE6ee5bzkYKcnezuq+J1zWS4kyhyA+RB9gZ5Kf/GJFbm6tCkr5uyHDwc0luPaypwgkssyFuTXtOEi8QQn488ljdX4tXf+GqElTA05VWc8tJjx3dcjZ797dOq1H25nSpaqkS2rP3Vfahjuq0OPHF2X2xG3UU+v0HJ8h4bueK3aJ5+XUtr1hDS4Jt8npasUKPdTmvJM9EkvrRA87OmBM+qsnEFHieiz9dudBCiFaIetYZOqGKkJfU66+FhxuaDx94SQqLr33EiHPD5dfILgcvI2D29SZbv/Mc/rxa+p/I+5IFJKeC5olFBiYeR6EVSDONXl6IZMbdHgIys06fABbtzuNbWy8lXVszmwQRjF285atxPthH58Vgo/x/m57UyVz7+m/WQTtmQ5cjszQqMwLMsq9kGb6xwLtLNqeJAN+v+zIz3pTSrPPGBG/dq5t8qjCQf45NVhU3RIzst92pVr6vuWevJa5OsFPVX9NWvTD3dpX7XHi2+XWfloSymXzTunJFkh0bIi5e42ca/hNRHOBpoj+kKBMXBxWpYVd8jWq7fa6BJ6/26/j9WINKK34QS/49xOr9W/KU9Pi3JKxq9IP2A56cjN2y+nqpWM6Mody9U5nxqvtVLXdNrv1qtPRq9w2kBSjksbd+V9hp5AOtf8a1+VWHriXLqgdl60C9tFFjzYgjUVmgr1CRCrWVzxSngEg5yl6t6LYDqkoww2wM9f2sJhSDy3nkzlExUrEKJyVOfp6OAwfCBxrrH0BoJzI6henBMqZjm+BbawHFUXN6FnicnPd6PYs8CYuR2yg8zfzhqSKO+9F7u5wE3xZ6rymJIVTTAhOd69dWhOgWGhdapkZCJ/FgkhioR91B94sqv6T5cnp6C7LCIr7hQZezxl0RgxeV1Pt0eSgB8fxCiXMMi0KKfqTZxu6fJbug6Mx6nB5DC65hb1nqg/2USlWI73HrP+ERuTonPFwxR5fxUFyr1RogtnS3pAVSpqb77inv6qFwVrJgG+hdYkiW1bGX163Xj21h52wDblyCEmYflIvPV9Qk3izOIc2xGsi7gEGRiq2+N1HHo2uD8lvLR2FsQMcmKP3iIYWdEySeNCsWFh5Sj5W/XUvjcQgGUi+sIyPMEtyoq7pv+38XhmYbgiZ87+7rpqH+hyEgabUkjbpJ6+qdos65Q6HMjJo87nksZ6209EjmvjZHBvnvw0pUC5lxlGQWe1LpVi63MzzIwpsNC6aYXWJuP24A55h4NlMJnSszo1I/XWLbip4xblEH8NiLTdJP5aElOOaYxgCD0spk1ql1lBnFuXWEY7s2tptOfDuZZ2ta8J2vMTGRfsorkVheaUIZ6TJDJg7D1uN0ACgGKszA2NIYbiEIxyNkFWzEUQXlfsYe4aoS7nh8HeLTIxDdeoOalJ9IdPsJZV5HjYvvPUrJwKw3KK49WsG8OJIa+JURZCAXBL5x+DGZKEoazGBV7BwwG9ZWVOdcg66r1xBbVLGM7U2F3UMcLJZpFLy87SrWuruBylExa4SzmkiQeYaHFMx1hGOzOTpvZiTP2JXY7ZvWMRxFWaEri8uKuGXDKTg2VS4kXQhoC2w5QAKMeucYv7hoSeVCmxsrDUpW1Zcfds0eCNKic9NsluXN5GEKBN6q25kInpSqIzfP2jVI63QHHMvewfHu92wxasEV0tYLWLY9h5V5NtGj8ZqeHIwSrUa2Id1e60r0MaesInjqFjS0Mb7hSPLD7NWU1fUDf3ksSCyqydebuqcFvjcBJnsCht4+Xu0nz/5nVT8G27bGEh+NLamStwzc5GC7vabR6dxc+8Q8KOqmcW7XOjXeUFIYfhwtbUQle+d9Gz2C01G78/wyoJwW43qi/s64Xe8xteAGiE9MNwzJ68Z5mrZKmzgUSkdHG7Ldy6tkVZYWmtH1rsGq0a+7bL2p2DR6pcXp7R69aswiCiaPzi9ubITRsutdzdAxP6R5Ecb4tZBTfnezM+LUsvz2Y38l3GZKS/G03kcxm/z2aqG2TX07+RY9Hv5bph8s6b5941MM87ml3JZ8vVidz/xP3mZqYaT5YvUzZXM1Vds71zKaUgf+Y69vrm3OyaQdmYtDc7+22+DonqJnG+f7/Nps7z5gR1w8mru5ysbm1KtHFz7/BeUn8qZfW9CKVtOPEcblrkmQr6lUlxec5X7lXEz8PPHfU76QtRuSbLKq8HTuY3QT+sSVV/iduBf29dH0XyTBOcr5Kbx/T9pczCdpmQF/E9C34LwBKI5E5BX/JliulP+rdeO12GrLCU98O0zLOpzjNVnzevbNpEzLPWGSvqyqm4TXgpMR5G9ZK8R8F1F5KbcdvSqWCsrnV+URsv4QH/oy4EAAAAANAQ3jd8x+zdfc/Wf9XBePj53SHrFHsO2mM92n+rW2ECAAAA4D6TCA3kUIgOvDSxOXb7S4TOgeUC5R4AAAAArWE2HXB2nHp0QE/v/eLRPO56kTWLAMwDlHsAAAAAtIp5UWKe2ttScMNgr4XdTpf8N4wCsCwQcw8AAAAAAEBHgOUeAAAAAACAjgDlHgAAAAAAgI4A5R4AAAAAAICOAOUeAAAAAACAjgDlHgAAAAAAgI5QotzzW7Zkj9pE+vBDTsuQ899P5DMAAAAAAABglZQo9306snvU/j6jPXVk7/wGe9YCAAAAAACwpiAsBwAAAAAAgI7QWLmfvLehOvxaZcXxjhe+8+B/53Srz8y5/bJfeo6+Jof3/Pgg53ygiX51s5yP0B8AAAAAAAAiGiv3+Sumr2jEB06ustAdnf4d0JY+08CK+/aA6Oy3PeeGzuiAtrUC78CThI89utHXHdLp/w5p/OKGZhN1l+NTOv8j5wEAAAAAAAA0qw3L+XNOp8dEo8mYBg/lmFL9Bx85pn9Il8Ei3dGbfGJwQfv06VX+aQrlHgAAAAAAAI+VKve338dKLR/RbrgY92GPnqo/w/9c231w3pOe5wEAAAAAAAAA+KxUuZ/+ulD/DmnHjbfXSeL1AQAAAAAAAAuzUuW+95g31BzRlRuT76Z3fXMiAAAAAAAAYG5Wqtxv9XTwTRRbDwAAAAAAAGhOi8p9n3ZP1J+ynWyevaazl0q97+9jtxsAAAAAAABapkS5n9AHGxP/6IA4Wv5isJ3FyX9IWN95W8yrkws6eGRj6VXy9rDfosG/M7o5J/8cnaDwAwAAAAAA0IQHMw52BwAAAAAAAGw8K425BwAAAAAAACwPKPcAAAAAAAB0BCj3AAAAAAAAdAQo9wAAAAAAAHQEKPcAAAAAAAB0BCj3AAAAAAAAdAQo9wAAAAAAAHQEKPcAAAAAAAB0BCj3ANwxt1/2E29zvuf8Oad9VSb7X1AizZA3jb+fyGcAAABdp1S5n7xXgwIPDG6qHCRu6fx/cm5CWUles+DcTOnJ0j6d/5EvGVEA/HPcFJwPNhxpW1CCV0NR/2pc/verHjM5FsrOHx+kTD8oFXyTWNKEQcrjww/5DMAyceQbjAgbSmUdiqzKUnOdMNRhU/eNdVebVifrS5X7/rsZzWZO+n1Ge8c7pUL99sshHXyVD0W8PKMb97qc/h3QlnzNcOFsD57SlXPOzTnRwSNH+D8c0Nj5Pk83dPZSff9yn3YfmlMBWFe2Xo1Nuw36wLqwd37j9K0rGn09oG1MnOfn+NIT7JP/hvI/AMBquaXzNwd0IZ/AJlJRh1rx36HhyVU2fkU65FyYicLOT1d/vaKng+0CnXjk6a8mHVFfvl0284XlKGX67Yn6GwxSGaowDwcXShm4Msr1wkzos77Oa68gtl69VcVFNPyvYu7z47OeYIzerKeyBMDm0qcjnuQrkXrwT0U/BJrpLzX8nIyU7BrSZTaoTOjyeI9GJ3vyGQCwKowRco/OJizLwCZSVYeTf5Tiz4bkd7kWufXqk9ZNhx/n9xrffjlVElwp7J4RTo2HE6WVHp+unbFrsZj7lz3qyX9zZBalCvPTq/jbufgzpWv15+LX1HyeC5WPj2wRG9HuM3ME3E8i11hBGEhl+BejQwbM8fB81wpgvmPXm4Se2PMS945C1JKzf2Mt0K6/LIzDpKT1oSiURqXWXM8Pe/SU//6c6mcyz5G25Lvf5eW2bbx72gOQ56/QZek9d4HHICib1Hk6L7oeAldt2+ElSXbp9flebpj4cUnDk7d09FyXpE+iDqO6k3N0Gwievbqenba5zNAoyWOUH8mvab9OXfSNJ2PYl8+S3N/HfTV9HgCFZEbITzSAZ38zqaxDNp4Q7b3YDQy8U5rqsWdMl6lxpARtpEnpvmo8ZGPXdM7rLZv5lHsllHdUgaUs4tks6mML1vKHu7TPlv9gNmRmTur+z0scG38uaawqL7T6g/sFK3LbA6Kz39YddkNnxMqkr0CysnBInxy3GYd0XdDBo5QSycfVdb/tZ265qxNWRsJzh7SjFNjxCxvOIqEsgRKZh72p7+VYERfs+lMN2rr5blhRDO/LStOjAyInjIbzx4wmMxq/Wo4fq/+cc39B4++hcmUELCkllgVwFn6Uhc2F4XkJl+W3Q3rwseeUN9eBX4daae9fO3Vtz0tMgPSEYkf9SM6VUMNVKIZbf+2rexmvJ4fk5HLsOh8YWCF+Q/RJnoMT1zXXfyqPWhEO2gWfm5z4aVixN5MrbhN3HwrWpyP7rGwBU+h82WMque02b0M25W3p05LaN+gSrhES7WUzqVGHbDxRf572nO+1seGUetrSv6Ay/lVNDuS/GWLsup6ul3GhUrn3LCX9oVKab+gotIjPOxMOLXaR5WyLBh/F9W+VLKW4bKt70MlVfH8H7YpRqtJbdNz7i2qPpzwJnYyd9mjblBsaYZQFX+nN216y83P8nqMQWcU2PJf7SX7dPu2WhbPVguP3cuVXK4rqvq5CbWK4/bbf/5ufpWXBI561zCry7LVWsC6+XfpWYC1g1YT/70hlr80FqYlUVN5OHSbrWp33zih9KfcrK4+ZDBFDQpT31ril6U/5r74X550nPQWeRV5HFCjc1pWc9GTqCVLYLorq2yr2qk7URKhMjm4KrRqVQOdBe9l8FqpDVuwfjWn/dz5OzDsm2rFnx9NXWabu6IlEDBv5HD13xRtIVCr3vqVEFg941s/5ZsKFi3RDl7xeLGutqKpgZGIxc+KnImSgh9X+fnP7fawneJHyJDPsyjUbQqrzR16jZ0e6HfuK0h7t/9Xy0HGyuyZtekIfHoX9fYt2XyiV0nN1KrnA4XENF7XHblWfwrrO8hRaWu4yXM/kadjnRV4L1KeEQblE5SObDMRemqko9jxJ9CdCG8u8RiVwv0F72XwWqcOEYr8QPNZn+qpV2g+JPsae99jDuPqNKOaMubeL6YZ0al3EevFqg5kwD0baHetcU2E8Bn5og5lYFBcOrPaA0bFx4axZp9QMm2fewXmsvMq3m4S1LLj9yPSJZpMNHRLklOE1T7Ij6zIvdlcTcbvIVsLjlr2o3dR1GU7IyxpgLetloYVxXLmsUWjC8UHza6wVYlQ6uVpauBnoFnaBJcJxNpe563BarNh7ITt1EeNJrrSr65LxZJdfb/UbUcy/oNYuphNMKIBY18PByIbfzOuOyGZnfmjDkY5NVvd6k7ie+g1b7dfHwgnuit5jrT4ltqGSlHl/eDGftWY63+tOuHncTlnE+Mr4znFzS62/FWZR7L4felRsUW8XU9dpjOL/lHp3aqUzC7j2HssyLBkc8rAgfzGWWSuiSs6LO5e48iZwOJkYZnZW7B5eBsY1r9p2mScXgAxZ/xOGBIshx8pMLMpeZ+aoQy1XiYaDWLE3Y9Nea+NC29dri/mV+2ChQhRm4w5GOh5Ufa5YtGWUEse6+GeqK2serIWySXwv6AZbPR1848XWJ7Gx450I47qly2+q1zh7+pq0un11TXw/l7vJyyrKtbiuJda90WQ/38mleIFqm0ieldx8vYxJEU8sWMHnwfEOFfzG+/uL8Wc0WV3bBpuOs3DbTWLIsQYMeIHWmTnq0G7KEoWFyjiZDBddRN6bbdvtphGliF5buiFMi8yn3HPsEm9XVrGodR7YBc2WKi+GSmZdF4NDLwRn8t6EVURxppnVvkYBg+4jCzzjXWzSeIspZceZeSeXa0MiLntliEAd9o03pDg8zsbDH9DnpkpzQV1P3nMeGk72ZfLHLLIv8sJ4axesd0k+NsWGQa5CwU8sVmbPBO+4luTZLunAstKyzsNxurAgGACwDGRjDCXnDr1w75LFuGK4Zmqty9Nb+iqdlI3YVR5EPrdl3bmKEuU+n8VkSccuqZnSwq7Q+Jr2LbTejFm7riUExwn30dtwTuLZNaz294zQLaeTq9ypjv1v/ja6wvNcRcd+r7ddrN6asjluX5C1AM5Cnfndw7kwi8tmVe5mlYc3UnIVFnNecGS283TzWbDPfSmmru3Wl/Za5i2CDRdQqfahX9q3AszibX6WUO6dUk/JXLulaSs8O9Jlb9r9ImUueAvLbHKvJ8/jtMkdsuFBKST0MmjDbts1g7P6T+reHQg3AgC0hHgqyQlTNfpmwbggxgUmbV0P9Fe7/XIUmZJYx2fPXWEY4YMZ+zEAABsOCx6xIgTCJveOuWtYloRYKLztJjcZx+KySsEMAAAALMr8MfcAgPVDXIqprSNNXPoqsNtfLilmfOXI8xAWbgIAANgcoNwD0AXsOpXoZUxWQV3C3vsBWZz7xr8gxrpV1fM84QXKWLgJAABgc0BYDgCdQUJz5FNGIlSnPdx78rabUIQBAACAuwTKPQAAAAAAAB0BYTkAAAAAAAB0BCj3AAAAAAAAdAQo9wAAAAAAAHQEKPcAAAAAAAB0BCj3ANxb8jfpreYNtpsBv/TLf+MxWAx5o+P7hd+BCwAAYAEqlXsz0MkrdMsE9Z9z2nfPUylUGCbv/e+jlLp2dN34delRHpu8Uh2sLXE9mwTFtIMk5IlO/zsP9vGfl/ulcFqZG/aRrC81Ls9Vs5z6w4TuflA0hkBn2Bzmr8PciGXThx/y1QLEemzBffnt5u55K5a1Jcq9KZDtwVO6ms2Id8yczW7o7OdOnEkeiB8d0NOJPU+l32dEg21PCPffOd+7aTLS34+e+ztk60IMrxvso80Vvf1tn26y769oREPaQWftKHt09ttpD6rtXHA72zglZR3YosG/phzHr9bztVN75zd5XXPf/npA21DC5sZ/udktXX67kP8DcN/g93FYmWIT3s+xWdSsQ61g25cR5uceLfgGddZJd36eOfrmjK5OWN/0xyQ9AekPaZTprkp3Jh67VqeXFiv3Pz6bt03+dgtMKQMfz2hPDbCfnZnP5J8DughfOf9wQG9P1N/jy4qHkTdoBr/nwtk5NhVYVhFbr8Y0817Q06cjPVkY0iksut3n2RHdnO8RBW0SdBHVt38r+UMXdPAPpu7V3NL0p5ognYyUzB7TpR18/lzS+OuIRiyfAQCgi7DR2SrY71qYuqnrnR6racUb/4WQ/b/NmDT+bvXNCX0eXGjDVK67iu68Qr20ULm/nV6rf59S76H5nPGwp44SXU9tBs0AQl+nNDUH5kNPItQA9GLXKTBjWdo7f73YbFpexQ/uB1s9bpF+m9RuOO01Ejd+mWssdJ8VWYaLQkVUysIe5Bzt9guumwofqnLx6e/5ObJr8feOm9F6xvT3/F3+vJyH3IXpXjcoEzk3wnkW3xWaLh//HDe1aGkX+UM/p7oeTfmlr+9+l5ezvE33eEc+Syrw/Hj1U3BO/NyhdcaUt67/oE00cQ/X5vFrenuSDz6338dESra+fhxLyfhZEmWrn8EcD8+vfh6n7S7R22byFefd1KfUj9Oft9VgTDxpfCR5k5Q/j5PvKKXbHwDg7mA5Fxmdm/BnqiSEq2cU8ONSjTF7tP9X4A2X3/te1OVREXN/TdNIaPWo91Jl8JdV5bdo9wUPEsGMRGY5dLJbqqBP/uOhdkRv3bAAbVlSU4teUDh1kUIE9xytwO2oRiauMbb6cliHEyqmB/v+tRfqc6UUIR7kPUWFFZpHB0opysNErsTyyZaBMKxl2OfrUuY6ZO8Chw+51+R7Xz7P71sYUsbP8bFHN/L96f8OafxC5YM9VMenjmLBvz2lnnoWztvw4z4d6pA1+V3WP/t0ZO8pIXFl8LO4oW+mfPw88rNsD8gpR74nw963MQ1CI0FL9J/zXVyriWVCl1r+vNX3zkMCJV8nvpvW9/4Zxm8e0OljW9/qd0HbsQpfFLr4MnbTMjp8LGgTw/5qFEMuJzOosOGE8oHHMcqwQnxIn+Q57LNwXafyaPqI3y64rZQ9D5fXtjbmaGtaosxXysMBjSXv2vunBmQv5E8lz/ImIWxZ0l4kDh37tLT2DQBYBAk9fNJrT8Y829Vjx8Xgsz/2ceSKo8wbndY3jGtjgxrDr3SUwYKG8DkpVO63/tpX2VUC/I1vXZm8N8LZZevVJzUImMHLWCcn9EEpQhc8sJe5Q2QCEFnotXK+pwqnpoXRQw0gHObjFDboNsbLlKpvM1hnA/TDXdpX7dRafW37G0185bP/jpUaVo7ztp+ahBp3XMFM/iXH5eUhbaY/+eeywumHnNmQsnhS7boCL2ifPmX5uPDPFWVWo/rp/kfnd9mEfE74WRxFzCjUQ7rM+qKvSBv69ForTCkDQQOUbNC1bT19z14b2RNaQ8R6cvZ3ifwpRQ0MagKVT9r6tBuGGRaFLv7LEwglO6PQIZ7ohG0iNTFpCzWIWFnNAxOH5qhyGav2s+u0dwuHOPqTVOtKDtqYhSdIUbsoOJflslbsgz65sajneWPCUfO+CDYDnnw7egXWa20gVXVoZN/e455465zkGWjmIQ/5tgY4Vtp3tA5bPMHnc7QRRMnKnj7S8phYQLHlXls1xFrlFMzlc6P4+BirhrVOatd3oNykMDOewGqfwZahS9p1LCXG0lW+O0o2+fAUDdBZfnzQLvVk53oZKjFifROFRLvtVPvbjRQN8UY1mGH7YWYKsRLWW7gaKkhBHkusEf6i9ERY3QJEz3JniNHAU6hsXTkx5ax46XU8aSW2HtXGAT3hS95DJgJ2Emmp8GIuF86Tkqn9AzVpmb8+UxPYcAMEXv/CcjpW3Kei2C/Xi7NKbr8cmomKM3kG649eo+foFFikv3nMU4esj3recfa2sSd80QmdlnFsvDGTC9Y9Up57i6vYr1pOVITlOO57SUfP8hlRhsQuei7aJ2ZSUKiIF1ntM0KLGFeqeAgKYpbsLEpbGttYQAHWEBMOkM3CJaSmntLsM/1VFbyVz7CttdoNPQvdcfMTe6Z4hf3mYa3aboiQWVTUTME2wjkvnx265rCoQFBuvXqrhK1jKZewvnDhU7vIWqMyVuR+rYtpw2Xtla3rTlvkpD2wDTk+MAaXrqDGrkM9qHdjonK/wSL9zae4Dv1FrYqHA/qkQ2NcY1B9jBfAD/W95hDcaJ2V0i8KFft2jG5VVCj3CbS7242Hz92Tnuv+nYnBvBgcJmfEpYqRXhCbcu9uUe+J+pMYNPUMSSsTfj5A1zBu/XzCufgA20ssKLQYxT/vhCb0x1c2zW5OC95fT4ith8t5nhox8OuHVXTdiZd6tiBsYxH8rTCLJnF+yEyxR6ZNRBYlkfJ42RM37B0hIUyZrNZWp7y9moXodgLLE01rXXfao8SVN4Lbgb7OkHY2PgRCxjv1TJsfWgRAVwnXhuYYuVcUPljCjw/aeMyW+qzvs0feyjYJ9zF6xZAOIsVe1gGsaFyYU7m37m53BbKx5M+FWO0LQ2eiHXksMmiG7m0JzeDwhSso9qAmppO7seOWsJ1JpwwXYTbZG1kWfS/XurwirKXcWjNsWqH3zKx/4LpsuNPWHGghnrQAiXezSTiTeENXthOLXcuwrHKzgyC7z+9MwZe1IQ0w4ThqnIFnuDtYWRyGmYHNIapDMb6EoZEKY6hLGX9yT3pqbac18FVh19dF8l/GyVWFudZX7vVgI5YdT4E2MyTeZ/zQDcGRWU7KLW+t9sWL3cxivNDqn8U5ur/jXUx0KANbnBooW+D+IYsxwx0+zLqNRPtMCIqmDP/LnXnsfdrMsBxD5RZhy0QWSw/7Rkal1/EwqRCixcjCgbydgzi0hbfbLMtDDWSw0t6QFYYLeCGPLFvbCMuxsILPnqkVKPjxYmUeuGUb1ATZBhJlZZ2F42Cc6QxWf4AnZnMpqENt8An1UunDSSOGRKUw7rhssVtuD/uBvGdPnvpfNrGQ0B9ff80jXFa1AL9EuedByrrYVVJC3rwpNhRsZpGiCcFx4mOlsCO3fJXVXuBFEzfn5MVXmy3n3DAI8SRogtXTOmGRDCjDtl03nMS+gc5tZ7JriF6047Yvk8oWeBdiX77l7Le+/ettO2EQVbAwtPmXyYTeulMfW6DPZMLMjY9vcL2FUHX0RkKaKhaumpBBv84XW2DFa5Ls1pf2Wmpyod+G2FABlInn8hH3tKt422fJtl9tEeelc43e1hi+p0An53ryPHmbNHGyZsvLBHw+973gut4+9zKI530lTwvJALBiAp2Gk90GGZ6YDWGOOpQ+Te64JHpsMrxTtrpkkl4cDmu0ITjZ/cUQGOwAFuuvMi6sMLLkwYz95wCAEsTql1jPYdd6cGz4Iot6O4FYTuIyYEFshd/iayNqI/nwYiI3GLQtAAAAizD/gloA7hvirkvFyllX3X3GvAMgtTi+bNFp24gXz1sPtMnY3YawjzoAAID5gHIPQBV696YgHlkjCmVSsb0/mN0BEi9jsiF4DbfDrEO2TmLj9x23i7rS234CAAAAVSAsB4BaFCzIS4Tq3EvsoqaA5YaUuHWCBfUAAAAAA+UeAAAAAACAjoCwHAAAAAAAADoClHsAAAAAAAA6ApR7AAAAAAAAOgKUewAAAAAAADoClHsAFkbelrfkV+lnZG+WbfBmz3vM5D3KrhX+nNN+9oZGTngTOAAArBOFyj2/HTEX3olkFZpI0IcpFPx2H+c8pV/dnXjN8PuyYTk+P391ONh8pN2k2oC0wU17BbxRNlNpvZQlIwvayVORXGlcdzLxuS99fmnlWAd+rftsRrzR2s05v+OgKfGYYBImYqBdkjK3VK8A68Y8dRjLyeYyJbx/SuYW68+rk2mFyv3Wq7EW3lH6faZf6JO9rdMR9H66obOX6nvvBTZmX2qa5Ofx4HAx2A4KiBX1bRq/uMmvNxkRHe+kK1EP7Nt08OQqP1+lLryCHnQc3iffabMmjWmQeunTsyP5ftP3c9+js9/O86q+zTJgZR6QztCxcjxx5TePH0PagVcAtEj/ndNfOLE+U6RXgLWkbh2ygr39bd8ZX69oRCxTFlWwjRFi56c7Zl/RU5a5yfbD716x59m0urF77rCcyT8HdKEy/bbqxTQ/PtPBV/V4b9wX/PTpSD2gq3RvvfqkJwEXg89OgW/R4N+Z//Ibpdhcnai/x6e+sGerbX9II54wvMMrbADYOFTf1hbgrwf0Gd62xelUOaox4M1I/b2gKZR7sCweDuit1isuV2ZRBS1TUIfaQO29YFLpn2wkVgr+6QIeztsvp+qXSmFPXTPUS9eA+ZR7+zr5k92K2Yd9Lf+Idiut51vUeyL/rcC85t7n9vuYLl6e0WtY6UFA5BorsGjGLrQia2EY+rWtJ7DLpu5zGA+WyXv4mzhcJQ5j87xnTrjd9uBCHbigg0f++W2GwGz1nuq/11POg81bysLifueEc8jbcYd9+SwpHaYSPHvS6hKXT3SelBGXg1/ed2dt9ssxJ3Zlh2VbEPa2jiFvTtu0KcqfUzf5WpXUuVLP+rmD8CCnn5nyS9dr2XdgQ3jZo578F2woderwYU9HnizC9JcaB1P30NdcPyPEXMq9VqTZFfx3hYX8zyWNldKzd/66hgvilqY/5b8V6ML1uKXLb+rYk54zkwLADLjbA3LCFm7ojA5oO1BqWCk7pE+O24zDAViRDQZrrSwEoWI29GzJ5CFyde5nlHDXHcker2HffR5WYtTERJWIGxL09tdhfk4UVx2EgKi0vLC3Ldp9wfcc0mU4gfBki/EE6vxoiwwZD56TR8/7x7y8plP17NM3co64dOOJTRDmZ12/iYkVTyj88uY6WNT12z7cFy6fy3Po1NQ9vQpUG+UJW2i44bp5Q/Qpe5ai0E6DnuypQci6x+250cSU69YNGeX6/qrkhUx2+s+NF2H8PbzHhC61wettOpQOrDdq4rej6s+PMAAbxTx1+GeqenEDvk5pKv/NUMo9m1RCg8qdowRZTa5mSrzN6ESJyQqUMjFTRa1+UYPJSJ1b47q/z2ZquJ8pYT9Tg6hg8rR3fiP3dFKNfIJNQtpfSeJ2oJG2ohQ9n6LjIdF5NzOlVAdtjyk6Xg/dZuf6bcX9ivqSHM+eR54vK68KlEKkfr83U8p9Y4quFR9PyxtzXkK2hM+YwMoI/5y4TAvrpaAco3Nr5KUp9cuxAJ3H6vKuaiu171dKUd+uOYbYOnTzXlQ30fPIb6NnCNtFQd+LyhGsO6bNcp2bVFcOgvVhsTos6us1Ebnuy0h7TT8PYf50So0pS6S25d7EG9Wx2pvQnVpWe7bCaHd61XUn9OERx/qnZ2dsifEsUyVWNrDheIvunPqWrxnjYUqEhMkMe/hfPXtlPhNXs3W2FttF5G3C1kE3FCAIB1iE0fOgL8lC3MzSLuVQZO1cOT8+6NCfvfNPjvWzT7tRHOWEPnOIUGVYYBlVoYLGEpus62e76texhWYp7WIRkuVYxpq5kpMLaucI//o5jfpNVDfikYo9Ou7GD4xZ95XH7Io36euYLrMyuzXhp9FvwTrjbxYiCyLX2osFQhapw8l7CaNd1MvG46jVLbPx+pDoI3tCfeINadQ5eqxfXfheTeXeDqrVhVJ7wa26ZqawTwp2B9FwTOSOmlgoQX1+kwwFiI4rAf5JLyxzBTG4L5jwLaMYeErzA9OOfBKx1dIuM/5M6Vr+2zqp3XK8BTvLgMNZTIiP3l1Fnnt1in4Qv9+/1iE/ocLV/5snbc7ipx+X9QwMTahR1xe/IsfsHVGvHLWstedk58Y9Yb1g5doMmuFkPF4js5q1L1uv3qr8qDL/R/IjIWII6dhklCzUxqHFFlmCdaC6DllmcOiOHm+bbLzihKuapHRXMmPG016ZFLB5dOTHkqml3BurfcIiGCJW+2rLGg82RtEaTcpid1nxMoKbFfh40OpRjxWUxGBrFpZhp4X7iFl4ndqGSlLWubkdcvsKzg08Ad1ELJP6mR1FP7m4tG3C+P2Cyf3DXdrnfH271BbZyX9KYizbSipejSSi+O89XpeldzXKUa8fULI2nETKGoX1xsh31yJv1tJcBGsrVrP2hQdo15tU6CEEm0VZnwebQUkdsmKvN4VgGbgEw5ldi9pb5ri0ADWUe7HahwubEhirfZVlrdoSb8ndKFcJxZ6RnXYS7tjbKQ/DELz3ETOxSyzGDLHKWlUImQ1jCSeRst3r5sOKvihIib50d8h2iNoDZ8Jllm8lFYOBTCg89GKsPdr/a/EcZFbnVYUM6jwvXm5m4LorTDhcvmGCbL5QYyxaFtabdPnDbOZQb9MIsNZoj2CV5RWsNUV1KKGK2thXqdjnHs76O8HVj2rJZHGVkbwlKpX7zGpfNThkVvuyh6yyxOewhUa7UTgOs8SNooXt1wM6dN0xKi+HqsAheO8pz15rRdXfIaYYT5FTwiAKy1Gt6DWHebl72fJ5qnGN2JK3aXDeoy0PZReaRPz41l/7SqFZnTvRQ8e5c/iJsT4XKnUSDz/82FRpthOKfKcUjV0f1HBXlGzHL3X9Ve5F74a26AlGFJYTr3HILF53xOQ9G4HUoBzKfy/c0nrf5OOyEW/SsG88ftXhp2Ctyfr1VamhEawxRXWox2itvdJVnZdHyQSBqbUuj69vvaJVoT42L6tsZ7NSZBeDGqt8zU4UFauQ7WrjomRXIdudDopSwQ4I7jnL3KkC3AUFu3kwBTt6JFesh200bJO6bZl7hdfzdmSSNjj/jjc59X6br8ZPJrc85FnqtP1U2ZT+rqU+Zu47324FNq9hfcTEu664vzH1F+7AUrALSp3nLWh3pfXgXHeR8rPMU45RXXObkXz4eQjaWkFfSLWdPNXd4cYlrjedUn09OteUQdSXiuomoqD+y0jumgHWn1Q7m08Wgbumbh1WjJvJ3+TXTsvmtOyJSd179e3sAf+jbg4AAGuJsSDzOwvKFt5vCtZ7yfHyXXiee4hY4ZQCAGsvAGAtqb0VJgAArJ45Yho3AVmnUX+7SrBeqMmZ3v4Sb0UHAKwvUO4BAGuKXXyfiLveNHR85gMq3q4SbAJmk4c9Ovu47IXdAACwOAjLAQCsF7xAyi5q5sVKS9/3H4Ay8q2bay/OAwCAOwTKPQAAAAAAAB0BYTkAAAAAAAB0BCj3AAAAAAAAdAQo9wAAAAAAAHQEKPcAAAAAAAB0BCj3oNPoV+3zFoT/O6dbOdYc3j1DXdNN7/PXVU/em2MffqQ/a3hHGHVs/0t7udoseJtLUy7dLwNpL04bAWuObF3q9dnWieVIa/ezW68++KDuAgC4b1Qq95lylKV9Ov8jX7qIsuKeWzZoW4WnSunK718spOI8QqB1kkQby1KrynsZsi0eb9E4mxFvNqXTpu/Dfg/IZE6QmipURv4UyMU7J59EuWklE6qi/rqyvno36HYWPaNV5N120qcjKz8mIzkGlklSBmDSvWEkZFplHTq/aSh/wjZUJEsjvXTF7axUuefMbQ+e0pWjxNycEx08SlghHx3Q00l+3uz3GdFgO3og+8CXz6+oVJyJ5eGQ3tLZSzmWQOfx276jaPF1h7QDBb+z7J3f5O3MpoK90LdejUu/n5sfl3q/69Gb4uv135k82VfTh58Bs0WDf025rPaFTrxPubkvp5vzPRr2Vy94V0dezllSiuSFks2r8pj4/VXJ568HtH3P5PPkPe+Tv0dnv8ereTPxsyMpb+zJ72JlcZaUnrJ3vAMFf2NgJX2bxi8cmcIT44o6vP1yqN8M3gwzQd/56Rr2ruhppOeaiYSvO9/Q2U+VxxUaNkqUe/Pa973z155w2Hr1Vivlw//yh5n8c0AX4eu4Hw7o7Yn6e3yZC3GlsFtFvFTR4cmCuikXzPhVTw6m0cqbp7j16UhbQYZ02nl3P1g1t9Nr9e8e9VYxQIOlw/LjSsup0zW1vC+BZ6+1weTi2+XKBpqcPr1WEyqia5rek/JmA9TOsZpWTlak2IP6pPQUsMYYY4VnEFIT2VIZrvTJQ63LXpUaiqu4/XKqtMoRXaX0TffePz6bt1j/difWKt8f1UTy6wF9XmqoX06xcv9nqsSvGgB+Tc3nQm5p+lP9+TqlqjO1NaGOBVV1uHETi8PDnlK/wH0mcr8mZ/VmJq4tmFmMqkmLhmoYz1QcomHyU2Ct9O5d8Fs94w/dkf710veQ3zgWA5NHPi+4XoFVISrLLC1ifa0ZZywhHfyd9faZ1H74S+8xS4sLo2zaUJJUe3G/s/9XaVsNHPx79mjm+Sx/rtJzEmUUWtnnrcMkT3rVsniVBH0w2b70OaYN+O3CL8u5yye8d9+8j7Yxqr6NYnHT2HMXPm/qWeqcw+QyJWhrJdbPTvOyR+VmRLDOGBmeQvX/N8b4/KnCUFzF9JeS86l2ovVNGT8UxgD4NDYAqvOeqj/X09oSuhHFyv3DXdrnWU4wGzKzF6LRc6t6b9HuCy7YwFKuhNrpsfp7sru4kr4oamKiX10P7i25+7Ui/EvBIQoPxFPEvzGhGrkS6Q6YaUWugcL57ZAefOxlbr6rE752QqnRoQyuO1LCz+ZR5jw4dC24Ht8j4V7cOXZCWdiNzV/pNQeLTMDnizPmkBk37K6wfNoik3uxJe/2+1jV/B6d/a2eWhsgTJ64vbA35+y3PJekUJnb+3lKDx5N6a3zO7edabSSuUPXbiiLhNHEiledOowxLmp5jlUjyi6dvPWs2LqPKYV65IR2Xp3w86X6lul/frvgthKeW698tKLr9H+darTNapTi/EgpFidXjUPPOI/bA3La2A2dURzelIUh8vdVVkotU3bUxeWaEqKyqnCttUD1N+1VKQmzBOuPVrwTZLLuY0v1mzJiJ5X2lGdSTQzYY1ppMG8J1amL+X02U8PWTA1LMyVUZkrgqf+rzydKDHrczJQg0d/tnStxO7uaKdGoPo/U/4qQc16eqV+XYa9ddi0Xe77kGXSHrD3GybS7FNLOojbLFLRTuU/qmkohU+cXt62i75Xy4d/HPkvY/qWPKSUnw/zWP8aE14zuoZH+4NzH5DF+vqI8Vp63KIlnzZijfOpSlO/oePIeUo6JdlTVJtQdaraz+veoXYeCOZ6nRcpvbmwdhimS+aZ84v6WOF40BgV1Vrt8itpT03amnvFM/oZPlaTsflKO0XdFxzVxv3ex7cH/bflvuoJtGzbF7Q5sFEVjRZF8XbR9J2WPXNO9T0F+Mhmc1EXap3y3HG2dYguAWCr7Q7M4KtoZxMRBqU5jLEzZbiKrX8wzeb9tFk4EliHQHXQbtBY2SY0sY3fhXRL2XuzWtCiMaDewBBvvxKJ9bI/2/1p/W1X98lkMthibeGinHJ/tRuuKTBylOi/zWC5AVTv7c0njgnts/bXvuX4N9evQW0j4+4yueRHxwl6f+fD7q1jPXYu8XqSeehaxdCXWBkRlJAtIfW9JdfkYF3rctxqjnvGAPdd1wlUrMB6jRB7FYui107lYwnNvALl3w7RHvSByoRBDcPeId0z9z/e+uOE4LY0gLGPsAuzMa39I9JG96A5ab7Zyzp7Hm8jU8Ka1SOVuOQ8Ct6bpCIH7U+JIPTfpE/Ngq3Tx2YFazZjoBlsTAtAMCVG5GHzOB767DLdrBQ7VyAWu3dHAVwpl0acTkjj5b6jlirdpQNvUCCdsJV6TBx8OO1GDz6oWd+X06UiHdl3Q+Lt5FqNgh6FunMRQs0SK3PmN0cYtHvRVe2s4iTJ59NutSbwDD2iGbY/YgGPz4LBR0wfYgODJcLuota1wHIsTjmnSmAZq+q6j7HvunZzwU0lHz9REX8mzvcerWd1RsqA2XwiUW0U5wyywlCB+YwVWPkO6cRbLsqXo6oQVg8NEzGT7sGKv46GDfAAAFsUII0+xeHRAlPTebQr+VphFng9rKTcK6IQu1YRm2V6E0o0ARPH3B5AGlN1r2YjF2caebvX4U7xmIUsbK8/VeCmTqKp1EGWYxYJhu3USDFnNkPYINglW7M3k39dRDdoYExkMxFhgLeoteS7tWqzKHfRkG+3WZHgFpbvl1LNpWAXgDvnxQRY6htsUAbAOGOXwTpBQj4WQcIlQ6Wq6OHAjeGi2yNMhIbocRvR22c9dEmbRdvhI2YBkPLbtDX4RshNbZsHSE43ckr9KjOIcLn5TisPHlmziz47MgusGC1XN5GdIlyv3stwTVqx0gebk4dfpxerR+wx0krAY7VVTnyNdMd85Kr2LWQqzZXx1GLjIlGV7fx1Kdssxlp3Q8j7RL+NwrVgmLpJnQ4eu8JJV6PRyn3aXGfvOu0vobcvYsrH6GH8AXHyLL8MCYzXu8/5zHSmeKwEcLifxiIsTxnnfH3R5spVHrzXy3/fhYuv84J+mUbs2HChQBMV4UZaHuciu9yk5IGWhKksJ28k9vVksrJ1IDbbnGFTbwby3xa07YxEcPxnp8a8N7LsUFn4+eS9BvBsQaAzLSNYflJLYdKtSsBp45yitW6o6a9VrJZM8ptY6FtY97frSsnzosHWejKzW+Fyi3MuiABZ8jmvDLD5zrXdmMa0VXvY8rXBz4XsP4+6pKwqPdZFwylyXLGDteTbu0gkNyCxKroUlFZMIYdhFvHZmk2dlTLQzZxHMUteBSDxznkez1Zy23i0bsRLqN67yvR+Naf+36ZsLoa7Hv82u56UFF6BpgSjX0JNy9/pr1l9FqeKQkdKFmVzn0UKreaw/OXqxn9d+VOpfa+/JQh4TPbDkeTLXsy8ITF+v/zfHILeH319lDVcwyGlLm3ruVFtbrsIvMddZ3W3T9I0qm7/bjYvtvzOL7vj5suep3RfshhXm7fDZb6LzEuNmcny9r7jjgiSRkQht2hCUPNNrvphA3urUxNsoGykw6Y0TgvYjcjn2ALj9UKVHB/RUbze7WuPzgxn7KwAAIMCuY+HJvG/Vst6IrnvLjBX3gO7bOh55bv2WRbxVFQAANo3S3XIAAPeVW7r8ZtaxxHHeEorXdez2l/ftBTfy3EVhOwAAANYbKPcAgARb1HvCfxML+UT529ztMGtwH2NxbZhIkzAgAAAAdw7CcgAAhWRbzAbEoTrdwH3e1BZrAAAAwLoD5R4AAAAAAICOgLAcAAAAAAAAOgKUewAAAAAAADoClHsAAAAAAAA6AdH/A9iDG0GvJDctAAAAAElFTkSuQmCC)\n",
        "\n",
        "#### Write a Python program **using lambda and map**, which **returns a list with 2-tuples**. Each tuple consists of the order number and the product of the price per items and the quantity. The **product should be increased by 10 €** if the value of the order is **smaller than 100,00 €**."
      ],
      "metadata": {
        "id": "M8KXDdYQQDed"
      }
    },
    {
      "cell_type": "code",
      "source": [
        "orders = [ [\"34587\", \"Learning Python, Mark Lutz\", 4, 40.95],\n",
        "           [\"98762\", \"Programming Python, Mark Lutz\", 5, 56.80],\n",
        "           [\"77226\", \"Head First Python, Paul Barry\", 3,32.95],\n",
        "           [\"88112\", \"Einführung in Python3, Bernd Klein\", \t3, 24.99] ]\n",
        "\n",
        "min_order = 100\n",
        "invoice_totals = list(map(lambda x: x if x[1] >= min_order else (x[0], x[1] + 10), map(lambda x: (x[0],x[2] * x[3]), orders)))\n",
        "print(invoice_totals)"
      ],
      "metadata": {
        "id": "6N2R1jR4neOX",
        "colab": {
          "base_uri": "https://localhost:8080/"
        },
        "outputId": "f0ef7d66-e283-4416-f50d-391adeca805c"
      },
      "execution_count": null,
      "outputs": [
        {
          "output_type": "stream",
          "name": "stdout",
          "text": [
            "[('34587', 163.8), ('98762', 284.0), ('77226', 108.85000000000001), ('88112', 84.97)]\n"
          ]
        }
      ]
    },
    {
      "cell_type": "markdown",
      "source": [
        "####  The same bookshop, but this time we work on a different list. The **sublists of our lists** look like this: **[ordernumber, (article number, quantity, price per unit), ... (article number, quantity, price per unit) ]**. Write a program which returns **a list of two tuples with (order number, total amount of order)**.\n"
      ],
      "metadata": {
        "id": "9EeoajHoSL7F"
      }
    },
    {
      "cell_type": "code",
      "source": [
        "orders = [ [1, (\"5464\", 4, 9.99), (\"8274\",18,12.99), (\"9744\", 9, 44.95)],\n",
        "           [2, (\"5464\", 9, 9.99), (\"9744\", 9, 44.95)],\n",
        "           [3, (\"5464\", 9, 9.99), (\"88112\", 11, 24.99)],\n",
        "           [4, (\"8732\", 7, 11.99), (\"7733\",11,18.99), (\"88112\", 5, 39.95)] ]\n",
        "\n",
        "min_order = 100\n",
        "invoice_totals = list(map(lambda x: [x[0]] + list(map(lambda y: y[1]*y[2], x[1:])), orders))\n",
        "invoice_totals = list(map(lambda x: [x[0]] + [reduce(lambda a, b: a+b, x[1:])], invoice_totals))\n",
        "invoice_totals = list(map(lambda x: x if x[1] >= min_order else (x[0], x[1] + 10), invoice_totals))\n",
        "print (invoice_totals)"
      ],
      "metadata": {
        "colab": {
          "base_uri": "https://localhost:8080/"
        },
        "id": "mn_ghGCAX6RG",
        "outputId": "453a0856-045e-4e5b-fa42-0d34552d46bd"
      },
      "execution_count": null,
      "outputs": [
        {
          "output_type": "stream",
          "name": "stdout",
          "text": [
            "[[1, 678.3299999999999], [2, 494.46000000000004], [3, 364.79999999999995], [4, 492.57]]\n"
          ]
        }
      ]
    },
    {
      "cell_type": "markdown",
      "source": [
        "#### Suppose a **dictionary** contains **type** of pet (cat, dog, etc.), **name** of pet and **age** of pet. Write a program that **obtains the average of all dog's ages**."
      ],
      "metadata": {
        "id": "dn4JGTozB6eo"
      }
    },
    {
      "cell_type": "code",
      "source": [
        "dct = {\n",
        "    'A101': {'Type': 'Cat', 'Name': 'Boku', 'Age':2},\n",
        "    'A102': {'Type': 'Dog', 'Name': 'Moku', 'Age':3},\n",
        "    'A103': {'Type': 'Cat', 'Name': 'Momo', 'Age':1},\n",
        "    'A104': {'Type': 'Dog', 'Name': 'Nono', 'Age':4},\n",
        "}\n",
        "\n",
        "def age(d):\n",
        "  if d['Type'] == 'Dog':\n",
        "    return d['Age']\n",
        "  else:\n",
        "    return 0\n",
        "\n",
        "def func(n):\n",
        "  if n == 0:\n",
        "    return False\n",
        "  else:\n",
        "    return True\n",
        "\n",
        "lst2 = list(filter(func, list(map(age, list(dct.values())))))\n",
        "print('The sum of ages of all dogs:', sum(lst2))"
      ],
      "metadata": {
        "colab": {
          "base_uri": "https://localhost:8080/"
        },
        "id": "yvh9qOrZZevM",
        "outputId": "8e2db2d7-54e3-4837-d94d-b371da84d6b8"
      },
      "execution_count": null,
      "outputs": [
        {
          "output_type": "stream",
          "name": "stdout",
          "text": [
            "The sum of ages of all dogs: 7\n"
          ]
        }
      ]
    },
    {
      "cell_type": "markdown",
      "source": [
        "#### Consider the following list: `lst = [1.25, 3.22, 4.68, 10.95, 32.55, 12.54]`. Write a program to **obtain a list of areas** of these circles **rounded off to two decimal places**.\n",
        "\n"
      ],
      "metadata": {
        "id": "RX9EHOMacu0h"
      }
    },
    {
      "cell_type": "code",
      "source": [
        "lst = [1.25, 3.22, 4.68, 10.95, 32.55, 12.54]\n",
        "area_list = list(map(lambda n: round(n*n*3.14, 2), lst))\n",
        "print(area_list)"
      ],
      "metadata": {
        "colab": {
          "base_uri": "https://localhost:8080/"
        },
        "id": "-erPomElZmja",
        "outputId": "33c51a82-74ea-4a72-b436-7fcfff04e24f"
      },
      "execution_count": null,
      "outputs": [
        {
          "output_type": "stream",
          "name": "stdout",
          "text": [
            "[4.91, 32.56, 68.77, 376.49, 3326.84, 493.77]\n"
          ]
        }
      ]
    },
    {
      "cell_type": "markdown",
      "source": [
        "#### Consider the lists:\n",
        "```\n",
        "nums = [10, 20, 30, 40, 50, 60, 70, 80]\n",
        "strs = ['A', 'B', 'C', 'D', 'E', 'F', 'G', 'H']\n",
        "```\n",
        "#### Write a program to obtain a list of tuples, where each tuple contains a **number from one list and a string from another**, in the **same order** in which they appear in the original lists."
      ],
      "metadata": {
        "id": "FGJ6pGkSgvTI"
      }
    },
    {
      "cell_type": "code",
      "source": [
        "nums = [10, 20, 30, 40, 50, 60, 70, 80]\n",
        "strs = ['A', 'B', 'C', 'D', 'E', 'F', 'G', 'H']\n",
        "\n",
        "combines_list = list(map(lambda x, y: (x,y), nums, strs))\n",
        "print(combines_list)"
      ],
      "metadata": {
        "colab": {
          "base_uri": "https://localhost:8080/"
        },
        "id": "kOCx3l03gVPR",
        "outputId": "816db298-c409-4679-8796-2892e5a63842"
      },
      "execution_count": null,
      "outputs": [
        {
          "output_type": "stream",
          "name": "stdout",
          "text": [
            "[(10, 'A'), (20, 'B'), (30, 'C'), (40, 'D'), (50, 'E'), (60, 'F'), (70, 'G'), (80, 'H')]\n"
          ]
        }
      ]
    },
    {
      "cell_type": "markdown",
      "source": [
        "#### Suppose a dictionary contains names of students and marks obtained by them in an examination. Write a program to obtain a **list of students** who obtained **more than 40 marks** in the examination."
      ],
      "metadata": {
        "id": "HAoPv817hynA"
      }
    },
    {
      "cell_type": "code",
      "source": [
        "students = {\n",
        "    'Tanjiro': 55, 'Nezuko': 53, 'Zenitsu': 45,\n",
        "    'Inosuke':39, 'Dipti' : 55, 'Smriti' :12,\n",
        "    'Subodh' : 45, 'Meenal' : 33, 'Harsha' : 40\n",
        "}\n",
        "lst = filter(lambda x: x[1] >= 40, students.items())\n",
        "print(list(lst))"
      ],
      "metadata": {
        "colab": {
          "base_uri": "https://localhost:8080/"
        },
        "id": "jju1H264hXDn",
        "outputId": "ad21ccf0-d352-4279-d371-4f7ce3d10aae"
      },
      "execution_count": null,
      "outputs": [
        {
          "output_type": "stream",
          "name": "stdout",
          "text": [
            "[('Tanjiro', 55), ('Nezuko', 53), ('Zenitsu', 45), ('Dipti', 55), ('Subodh', 45), ('Harsha', 40)]\n"
          ]
        }
      ]
    },
    {
      "cell_type": "markdown",
      "source": [
        "#### Consider the following list: `lst = ['malayalam', 'Drawing', 'madamIamadam', '1234321']`. Write a program to print out those strings which are palidromes.\n"
      ],
      "metadata": {
        "id": "J6SOlq8oit_P"
      }
    },
    {
      "cell_type": "code",
      "source": [
        "lst = ['malayalam', 'Drawing', 'madamIamadam', '1234321']\n",
        "lst1 = list(filter(lambda x: x == x[::-1],lst))\n",
        "print(lst1)\n",
        "lst2 = list(filter(lambda x: x == ''.join(reversed(x)), lst))\n",
        "print(lst2)"
      ],
      "metadata": {
        "colab": {
          "base_uri": "https://localhost:8080/"
        },
        "id": "JSpCYN0GifHH",
        "outputId": "7b5be981-ffa1-4b8e-ed68-c79ca31aa20e"
      },
      "execution_count": null,
      "outputs": [
        {
          "output_type": "stream",
          "name": "stdout",
          "text": [
            "['malayalam', '1234321']\n",
            "['malayalam', '1234321']\n"
          ]
        }
      ]
    },
    {
      "cell_type": "markdown",
      "source": [
        "#### A list contains names of employees. Write a program to **filter** out those names whose **length is more than 8 characters**."
      ],
      "metadata": {
        "id": "q5ewpZIqkex-"
      }
    },
    {
      "cell_type": "code",
      "source": [
        "names = [\"Alexander\", \"Ben\", \"Catherine\", \"David\", \"Elizabeth\", \"Frank\", \"George\", \"Hannah\", \"Isabella\", \"Jack\"]\n",
        "short_names = filter(lambda name: len(name) <= 8, names)\n",
        "print(list(short_names))"
      ],
      "metadata": {
        "colab": {
          "base_uri": "https://localhost:8080/"
        },
        "id": "ok7reyNrjKJl",
        "outputId": "81a36178-5a5e-404d-a3e2-28fe79952c02"
      },
      "execution_count": null,
      "outputs": [
        {
          "output_type": "stream",
          "name": "stdout",
          "text": [
            "['Ben', 'David', 'Frank', 'George', 'Hannah', 'Isabella', 'Jack']\n"
          ]
        }
      ]
    },
    {
      "cell_type": "markdown",
      "source": [
        "#### A dictionary contains following information about 5 employees: First name, Last name, Age, Grade (Skilled, Semi-skilled, Highly-skilled). Write a program to **obtain a list of employees (first name + last name) who are Highly-skilled**."
      ],
      "metadata": {
        "id": "4IGl788tmDO2"
      }
    },
    {
      "cell_type": "code",
      "source": [
        "employees = {\n",
        "  'Dinesh' : {'last_name' : 'Sahare', 'age' : 30, 'Grade' : 'Skilled'},\n",
        "  'Ram' : {'last_name' : 'Jog', 'age' : 35, 'Grade' : 'Semi-Skilled'},\n",
        "  'S.' : {'last_name' : 'Sam', 'age' : 25, 'Grade' : 'Highly-Skilled'},\n",
        "  'Adi' : {'last_name' : 'Lim', 'age' : 25, 'Grade' : 'Highly-Skilled'},\n",
        "  'Ann' : {'last_name' : 'Mir', 'age' : 25, 'Grade' : 'Highly-Skilled'}\n",
        "}\n",
        "\n",
        "lst = filter(lambda x: x[1]['Grade'] == 'Highly-Skilled', employees.items())\n",
        "print(list(lst))"
      ],
      "metadata": {
        "id": "0jtiOyTJlDZ3",
        "colab": {
          "base_uri": "https://localhost:8080/"
        },
        "outputId": "f73b3de0-5603-454a-e738-cdb053d09136"
      },
      "execution_count": 3,
      "outputs": [
        {
          "output_type": "stream",
          "name": "stdout",
          "text": [
            "[('S.', {'last_name': 'Sam', 'age': 25, 'Grade': 'Highly-Skilled'}), ('Adi', {'last_name': 'Lim', 'age': 25, 'Grade': 'Highly-Skilled'}), ('Ann', {'last_name': 'Mir', 'age': 25, 'Grade': 'Highly-Skilled'})]\n"
          ]
        }
      ]
    },
    {
      "cell_type": "markdown",
      "source": [
        "### Consider the following list:\n",
        "\n",
        "```\n",
        "lst = ['Benevolent', 'Dictator', 'For', 'Life']\n",
        "```\n",
        "\n",
        "### Write a program to **obtain a string 'Benevolent Dictator For Life'.**"
      ],
      "metadata": {
        "id": "wSfbzRAc-BPW"
      }
    },
    {
      "cell_type": "code",
      "source": [
        "lst = ['Benevolent', 'Dictator', 'For', 'Life']\n",
        "s = ' '.join(map(str,lst))\n",
        "print(s)"
      ],
      "metadata": {
        "colab": {
          "base_uri": "https://localhost:8080/"
        },
        "id": "6AHpd0Ay9bAp",
        "outputId": "77fdc966-92a5-4dbd-c2b2-f67e672b5b91"
      },
      "execution_count": 5,
      "outputs": [
        {
          "output_type": "stream",
          "name": "stdout",
          "text": [
            "Benevolent Dictator For Life\n"
          ]
        }
      ]
    },
    {
      "cell_type": "markdown",
      "source": [
        "### Write a program to obtain a list in which all the **names are converted to uppercase.**"
      ],
      "metadata": {
        "id": "pA_Tn_bv9dNN"
      }
    },
    {
      "cell_type": "code",
      "source": [
        "names = ['Rahul', 'Priya', 'Chaya', 'Narendra', 'Prashant']\n",
        "lst1 = map(lambda x: x.upper(), names)\n",
        "print(list(lst1))"
      ],
      "metadata": {
        "colab": {
          "base_uri": "https://localhost:8080/"
        },
        "id": "aYcgZxJW-MYm",
        "outputId": "d7a18285-ab79-4c18-dfcd-21923a9221d1"
      },
      "execution_count": 8,
      "outputs": [
        {
          "output_type": "stream",
          "name": "stdout",
          "text": [
            "['RAHUL', 'PRIYA', 'CHAYA', 'NARENDRA', 'PRASHANT']\n"
          ]
        }
      ]
    }
  ]
}