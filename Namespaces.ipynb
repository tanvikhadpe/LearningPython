{
  "nbformat": 4,
  "nbformat_minor": 0,
  "metadata": {
    "colab": {
      "private_outputs": true,
      "provenance": [],
      "authorship_tag": "ABX9TyNP1LoVdEf6iUEIUszvvjeU",
      "include_colab_link": true
    },
    "kernelspec": {
      "name": "python3",
      "display_name": "Python 3"
    },
    "language_info": {
      "name": "python"
    }
  },
  "cells": [
    {
      "cell_type": "markdown",
      "metadata": {
        "id": "view-in-github",
        "colab_type": "text"
      },
      "source": [
        "<a href=\"https://colab.research.google.com/github/tanvikhadpe/LearningPython/blob/main/Namespaces.ipynb\" target=\"_parent\"><img src=\"https://colab.research.google.com/assets/colab-badge.svg\" alt=\"Open In Colab\"/></a>"
      ]
    },
    {
      "cell_type": "markdown",
      "source": [
        "#### **NAMESPACE**\n",
        "\n",
        "- A namespace is a system that has a unique name for each and every object in Python.\n",
        "- An object might be a variable or a method.\n",
        "- Python itself maintains a namespace in the form of a python dictionary."
      ],
      "metadata": {
        "id": "mET93jMbRW4B"
      }
    },
    {
      "cell_type": "markdown",
      "source": [
        "#### Example 1:\n",
        "Let’s go through an example, a directory-file system structure in computers.\n",
        "\n",
        "Needless to say, that one can have multiple directories having a file with the same name inside every directory.\n",
        "\n",
        "But one can get directed to the file, one wishes, just by specifying the absolute path to the file."
      ],
      "metadata": {
        "id": "Nc2svhoASLaS"
      }
    },
    {
      "cell_type": "markdown",
      "source": [
        "#### Example 2:\n",
        "\n",
        "Real-time example, the role of a namespace is like a surname.\n",
        "\n",
        "One might not find a single “Alice” in the class there might be multiple “Alice” but when you particularly ask for “Alice Lee” or “Alice Clark” (with a surname), there will be only one (time being don’t think of both first name and surname are same for multiple students)."
      ],
      "metadata": {
        "id": "jOHYE85rSSL6"
      }
    },
    {
      "cell_type": "markdown",
      "source": [
        "On similar lines, the Python interpreter understands what exact method or avriable one is trying to point to in the code, depending upon the namespace.\n",
        "\n",
        "So, the division of the word itself gives a little more information.\n",
        "\n",
        "- Its **Name** (read: name, a unique identifier) + **Space** (related to scope).\n",
        "- Here, a name might be of any Python method or variable and space depends upon the location from where it is trying to access the variable or a method."
      ],
      "metadata": {
        "id": "nWVqoDuBSW-y"
      }
    },
    {
      "cell_type": "markdown",
      "source": [
        "#### **TYPES OF NAMESPACE**\n",
        "\n",
        "1. When Python interpreter runs solely without any user-defined modules, methods, classes, etc., some functions like `print()`, `id()` are always present. These are **BUILT-IN NAMESPACES**\n",
        "\n",
        "2. When a user creates a module, a **GLOBAL NAMESPACES** gets created, later the creation of local functions create the **LOCAL NAMESPACES**.\n",
        "\n",
        "**BUILT-IN NAMESPACES > GLOBAL NAMESPACES > LOCAL NAMESPACES**\n",
        "\n",
        "\n"
      ],
      "metadata": {
        "id": "lB1LIvZtTOOq"
      }
    },
    {
      "cell_type": "markdown",
      "source": [
        "#### LIFETIME OF A NAMESPACE\n",
        "\n",
        "- The lifetime of a namespace depends upon the scope of the objects.\n",
        "- If the scope of an object ends, the lifetime of that namespace comes to an end.\n",
        "- Hence, it is not possible to acces the inner namespace's objects from a outer namespace."
      ],
      "metadata": {
        "id": "J5bRueyYVnNx"
      }
    },
    {
      "cell_type": "markdown",
      "source": [
        "#### If one is interested in updating or processing global variables only, then one should explicitly marks it as **global**.\n",
        "\n",
        "#### EXAMPLE:\n",
        "\n",
        "```\n",
        "count = 5\n",
        "def some_method():\n",
        "    global count\n",
        "    count = count + 1\n",
        "    print(count)\n",
        "some_method()\n",
        "```\n",
        "Output\n",
        "```\n",
        "6\n",
        "```\n",
        "\n",
        "\n"
      ],
      "metadata": {
        "id": "tXWDVQwfWYuo"
      }
    },
    {
      "cell_type": "markdown",
      "source": [
        "#### **SCOPE**\n",
        "\n",
        "- Scope refers to the **coding region** from which a particular Python **object is accessible**.\n",
        "- Hence, one cannot access any particular object from anywhere from the code, the **accessing has to be allowed by the scope of the object**."
      ],
      "metadata": {
        "id": "LnpIt0TSW0KG"
      }
    },
    {
      "cell_type": "markdown",
      "source": [
        "1. **Symbol table** consists of **information about each identifier** used in our program.\n",
        "\n",
        "2. If a fucntion is nested insude another function, then variables defined in outer function **are available to inner function**.\n",
        "\n",
        "3. If nested functions create 2 variables with same name, then the two variables are treated as **different** variables.\n",
        "\n",
        "4. An **inner** function **cannot be called** from **outside the outer** function.\n",
        "\n",
        "5. If a function creates a variable by the same name as the one that exists in global scope, the **function's variable will shadow out the global variable**\n",
        "\n",
        "6. Variables defined at **global scope** are **available to all** the functions defined in the program.\n",
        "\n",
        "7. Global scope is the most liberal scope that an identifier can have."
      ],
      "metadata": {
        "id": "HRpmrWHQkP-7"
      }
    },
    {
      "cell_type": "markdown",
      "source": [
        "#### **locals()**: When called from a function/method, it **returns a dictionary of identifiers** that are accessible from that function/method.\n",
        "\n",
        "#### **globals()**: When called from a function/method, it **returns a dictionary of global identifiers** that can be accessible from that function/method."
      ],
      "metadata": {
        "id": "okJw_KoIlWLl"
      }
    },
    {
      "cell_type": "markdown",
      "source": [
        "#### Identifiers can have different scopes:\n",
        "- Local(L)\n",
        "- Enclosing(E)\n",
        "- Global(G)\n",
        "- Built-in(B)"
      ],
      "metadata": {
        "id": "LDbRTNTJl4_a"
      }
    }
  ]
}